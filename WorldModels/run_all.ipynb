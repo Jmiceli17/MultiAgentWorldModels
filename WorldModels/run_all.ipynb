{
 "cells": [
  {
   "cell_type": "code",
   "execution_count": null,
   "metadata": {},
   "outputs": [],
   "source": [
    "# !cd ..\n",
    "# !git clone -b series_rnn https://github.com/Jmiceli17/MultiAgentWorldModels.git\n",
    "# !cd WorldModels"
   ]
  },
  {
   "cell_type": "markdown",
   "metadata": {},
   "source": [
    "To add changes, commit and push to github\n",
    "\n",
    "Make sure to remove the record folder in results/worldmodels/multiwalker_v9 before pushing (unnecessary extra files)"
   ]
  },
  {
   "cell_type": "code",
   "execution_count": null,
   "metadata": {},
   "outputs": [],
   "source": [
    "# !git status\n",
    "# !git fetch\n",
    "# !git branch"
   ]
  },
  {
   "cell_type": "code",
   "execution_count": null,
   "metadata": {},
   "outputs": [],
   "source": [
    "# !git stash list\n",
    "# !git show stash\n",
    "# !git stash show stash@{n}\n",
    "# !git reflog"
   ]
  },
  {
   "cell_type": "code",
   "execution_count": 10,
   "metadata": {},
   "outputs": [
    {
     "name": "stdout",
     "output_type": "stream",
     "text": [
      "M\tWorldModels/configs/multiwalker.config\n",
      "M\tWorldModels/run_all.ipynb\n",
      "M\tWorldModels/series.py\n"
     ]
    },
    {
     "name": "stderr",
     "output_type": "stream",
     "text": [
      "Switched to a new branch 'series'\n"
     ]
    }
   ],
   "source": [
    "# !git reset head -- hard ca799a5\n",
    "# !git checkout -b series"
   ]
  },
  {
   "cell_type": "code",
   "execution_count": 9,
   "metadata": {},
   "outputs": [
    {
     "name": "stderr",
     "output_type": "stream",
     "text": [
      "fatal: Cannot update paths and switch to branch 'series' at the same time.\n",
      "warning: LF will be replaced by CRLF in WorldModels/run_all.ipynb.\n",
      "The file will have its original line endings in your working directory\n",
      "error: open(\"WorldModels/results/WorldModels/multiwalker_v9/record/1050075985.npz\"): No such file or directory\n",
      "error: unable to index file 'WorldModels/results/WorldModels/multiwalker_v9/record/1050075985.npz'\n",
      "fatal: adding files failed\n"
     ]
    },
    {
     "name": "stdout",
     "output_type": "stream",
     "text": [
      "On branch controller_updates\n",
      "Your branch is up to date with 'origin/controller_updates'.\n",
      "\n",
      "Changes not staged for commit:\n",
      "\tmodified:   configs/multiwalker.config\n",
      "\tmodified:   run_all.ipynb\n",
      "\tmodified:   series.py\n",
      "\n",
      "Untracked files:\n",
      "\t__pycache__/\n",
      "\tresults/WorldModels/multiwalker_v9/\n",
      "\t../record/\n",
      "\n",
      "no changes added to commit\n"
     ]
    },
    {
     "name": "stderr",
     "output_type": "stream",
     "text": [
      "error: src refspec series does not match any\n",
      "error: failed to push some refs to 'https://github.com/Jmiceli17/MultiAgentWorldModels.git'\n",
      "The system cannot find the path specified.\n"
     ]
    }
   ],
   "source": [
    "# !git checkout controller_updates # change branch\n",
    "# !git checkout -b series # change to new branch\n",
    "# !git fetch\n",
    "!cd ..\n",
    "!git add .\n",
    "!git commit -m \"Edited series.py with mean and std dev for each agent, edited max_frames and added some comments\"\n",
    "!git push --set-upstream origin series\n",
    "!cd WorldModels"
   ]
  },
  {
   "cell_type": "markdown",
   "metadata": {},
   "source": [
    "Get latest updates"
   ]
  },
  {
   "cell_type": "code",
   "execution_count": null,
   "metadata": {},
   "outputs": [],
   "source": [
    "!cd ..\n",
    "# !git fetch\n",
    "# !git reset --hard\n",
    "!git pull origin series\n",
    "!cd WorldModels"
   ]
  },
  {
   "cell_type": "code",
   "execution_count": null,
   "metadata": {},
   "outputs": [],
   "source": [
    "!python test/env_test.py -c ../configs/multiwalker.config"
   ]
  },
  {
   "cell_type": "code",
   "execution_count": null,
   "metadata": {},
   "outputs": [],
   "source": [
    "!python test/multiwalker_test.py -c ../configs/multiwalker.config"
   ]
  },
  {
   "cell_type": "code",
   "execution_count": null,
   "metadata": {},
   "outputs": [],
   "source": [
    "# !python extractMultiwalker.py -c ./configs/multiwalker.config"
   ]
  },
  {
   "cell_type": "markdown",
   "metadata": {},
   "source": [
    "Put back record folder before running the codes below."
   ]
  },
  {
   "cell_type": "code",
   "execution_count": null,
   "metadata": {},
   "outputs": [],
   "source": [
    "!python test/extractMultiwalker_test.py"
   ]
  },
  {
   "cell_type": "code",
   "execution_count": 8,
   "metadata": {},
   "outputs": [
    {
     "name": "stdout",
     "output_type": "stream",
     "text": [
      "100\n",
      "Skipped:  0\n",
      "djlamfds (150, 3, 34) (150, 3, 34) (150, 3006, 1)\n"
     ]
    },
    {
     "name": "stderr",
     "output_type": "stream",
     "text": [
      "2022-12-04 10:15:27.717512: W tensorflow/stream_executor/platform/default/dso_loader.cc:64] Could not load dynamic library 'cudart64_110.dll'; dlerror: cudart64_110.dll not found\n",
      "2022-12-04 10:15:27.721941: I tensorflow/stream_executor/cuda/cudart_stub.cc:29] Ignore above cudart dlerror if you do not have a GPU set up on your machine.\n",
      "2022-12-04 10:15:33.446123: W tensorflow/stream_executor/platform/default/dso_loader.cc:64] Could not load dynamic library 'nvcuda.dll'; dlerror: nvcuda.dll not found\n",
      "2022-12-04 10:15:33.446428: W tensorflow/stream_executor/cuda/cuda_driver.cc:263] failed call to cuInit: UNKNOWN ERROR (303)\n",
      "2022-12-04 10:15:33.451724: I tensorflow/stream_executor/cuda/cuda_diagnostics.cc:169] retrieving CUDA diagnostic information for host: MAO\n",
      "2022-12-04 10:15:33.452190: I tensorflow/stream_executor/cuda/cuda_diagnostics.cc:176] hostname: MAO\n",
      "2022-12-04 10:15:33.459472: I tensorflow/core/platform/cpu_feature_guard.cc:193] This TensorFlow binary is optimized with oneAPI Deep Neural Network Library (oneDNN) to use the following CPU instructions in performance-critical operations:  AVX AVX2\n",
      "To enable them in other operations, rebuild TensorFlow with the appropriate compiler flags.\n"
     ]
    }
   ],
   "source": [
    "!python series.py -c ./configs/multiwalker.config"
   ]
  }
 ],
 "metadata": {
  "kernelspec": {
   "display_name": "Python 3.7.13 ('base')",
   "language": "python",
   "name": "python3"
  },
  "language_info": {
   "codemirror_mode": {
    "name": "ipython",
    "version": 3
   },
   "file_extension": ".py",
   "mimetype": "text/x-python",
   "name": "python",
   "nbconvert_exporter": "python",
   "pygments_lexer": "ipython3",
   "version": "3.7.13"
  },
  "orig_nbformat": 4,
  "vscode": {
   "interpreter": {
    "hash": "b5730c729deb0565ba38b9fb41351f77d567c905c91d1f05eeeede201d1d8f68"
   }
  }
 },
 "nbformat": 4,
 "nbformat_minor": 2
}

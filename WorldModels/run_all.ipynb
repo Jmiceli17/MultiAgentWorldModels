{
 "cells": [
  {
   "cell_type": "code",
   "execution_count": null,
   "metadata": {},
   "outputs": [],
   "source": [
    "# !cd ..\n",
    "# !git clone -b series_rnn https://github.com/Jmiceli17/MultiAgentWorldModels.git\n",
    "# !cd WorldModels"
   ]
  },
  {
   "cell_type": "markdown",
   "metadata": {},
   "source": [
    "To add changes, commit and push to github\n",
    "\n",
    "Make sure to remove the record folder in results/worldmodels/multiwalker_v9 before pushing (unnecessary extra files)"
   ]
  },
  {
   "cell_type": "code",
   "execution_count": 9,
   "metadata": {},
   "outputs": [
    {
     "name": "stdout",
     "output_type": "stream",
     "text": [
      "M\tWorldModels/configs/multiwalker.config"
     ]
    },
    {
     "name": "stderr",
     "output_type": "stream",
     "text": [
      "Switched to a new branch 'series'\n"
     ]
    },
    {
     "name": "stdout",
     "output_type": "stream",
     "text": [
      "\n",
      "M\tWorldModels/run_all.ipynb\n",
      "M\tWorldModels/series.py\n",
      "branch 'series' set up to track 'origin/series'.\n"
     ]
    }
   ],
   "source": [
    "# !git status\n",
    "# !git fetch\n",
    "# !git branch\n",
    "!git checkout series"
   ]
  },
  {
   "cell_type": "code",
   "execution_count": null,
   "metadata": {},
   "outputs": [],
   "source": [
    "# !git fetch\n",
    "# !git checkout -b controller_updates # change to new branch\n",
    "# !git checkout series # change branch\n",
    "!cd ..\n",
    "!git add .\n",
    "!git commit -m \"Edited rnn_train.py(getting errors with tf), edited multiwalker.config and added some comments\"\n",
    "!git push --set-upstream origin series\n",
    "!cd WorldModels"
   ]
  },
  {
   "cell_type": "markdown",
   "metadata": {},
   "source": [
    "Get latest updates"
   ]
  },
  {
   "cell_type": "code",
   "execution_count": 3,
   "metadata": {},
   "outputs": [
    {
     "name": "stdout",
     "output_type": "stream",
     "text": [
      "HEAD is now at 0c1a2fa Edited series.py with mean and std dev for each agents, edited max_frames and added some comments\n",
      "Updating 0c1a2fa..0d94a15\n",
      "Fast-forward\n",
      " WorldModels/configs/multiwalker.config |   2 +-\n",
      " WorldModels/run_all.ipynb              | 134 +++++++++++++++++++++++----------\n",
      " WorldModels/series.py                  |  41 ++++++----\n",
      " 3 files changed, 125 insertions(+), 52 deletions(-)\n"
     ]
    },
    {
     "name": "stderr",
     "output_type": "stream",
     "text": [
      "From https://github.com/Jmiceli17/MultiAgentWorldModels\n",
      " * branch            series     -> FETCH_HEAD\n",
      "The system cannot find the path specified.\n"
     ]
    }
   ],
   "source": [
    "# !git fetch\n",
    "!cd ..\n",
    "!git reset --hard\n",
    "!git pull origin series\n",
    "!cd WorldModels"
   ]
  },
  {
   "cell_type": "code",
   "execution_count": null,
   "metadata": {},
   "outputs": [],
   "source": [
    "!python test/env_test.py -c ../configs/multiwalker.config"
   ]
  },
  {
   "cell_type": "code",
   "execution_count": null,
   "metadata": {},
   "outputs": [],
   "source": [
    "!python test/multiwalker_test.py -c ../configs/multiwalker.config"
   ]
  },
  {
   "cell_type": "code",
   "execution_count": null,
   "metadata": {},
   "outputs": [],
   "source": [
    "# !python extractMultiwalker.py -c ./configs/multiwalker.config"
   ]
  },
  {
   "cell_type": "markdown",
   "metadata": {},
   "source": [
    "Put back record folder before running the codes below."
   ]
  },
  {
   "cell_type": "code",
   "execution_count": null,
   "metadata": {},
   "outputs": [],
   "source": [
    "# !python test/extractMultiwalker_test.py"
   ]
  },
  {
   "cell_type": "code",
   "execution_count": 2,
   "metadata": {},
   "outputs": [
    {
     "name": "stdout",
     "output_type": "stream",
     "text": [
      "100\n",
      "Skipped:  0\n",
      "Shapes:  (150, 3, 34) (150, 3, 34) (150, 3009, 1)\n"
     ]
    },
    {
     "name": "stderr",
     "output_type": "stream",
     "text": [
      "2022-12-04 22:35:19.344900: W tensorflow/stream_executor/platform/default/dso_loader.cc:64] Could not load dynamic library 'cudart64_110.dll'; dlerror: cudart64_110.dll not found\n",
      "2022-12-04 22:35:19.355719: I tensorflow/stream_executor/cuda/cudart_stub.cc:29] Ignore above cudart dlerror if you do not have a GPU set up on your machine.\n",
      "2022-12-04 22:36:54.229289: W tensorflow/stream_executor/platform/default/dso_loader.cc:64] Could not load dynamic library 'nvcuda.dll'; dlerror: nvcuda.dll not found\n",
      "2022-12-04 22:36:54.252117: W tensorflow/stream_executor/cuda/cuda_driver.cc:263] failed call to cuInit: UNKNOWN ERROR (303)\n",
      "2022-12-04 22:36:54.991611: I tensorflow/stream_executor/cuda/cuda_diagnostics.cc:169] retrieving CUDA diagnostic information for host: MAO\n",
      "2022-12-04 22:36:54.991958: I tensorflow/stream_executor/cuda/cuda_diagnostics.cc:176] hostname: MAO\n",
      "2022-12-04 22:36:56.438666: I tensorflow/core/platform/cpu_feature_guard.cc:193] This TensorFlow binary is optimized with oneAPI Deep Neural Network Library (oneDNN) to use the following CPU instructions in performance-critical operations:  AVX AVX2\n",
      "To enable them in other operations, rebuild TensorFlow with the appropriate compiler flags.\n"
     ]
    }
   ],
   "source": [
    "!python series.py -c ./configs/multiwalker.config"
   ]
  },
  {
   "cell_type": "code",
   "execution_count": 61,
   "metadata": {},
   "outputs": [
    {
     "name": "stdout",
     "output_type": "stream",
     "text": [
      "step: 20, lr: 0.001000, loss: -1.0120, train_time_taken: 469.9710\n"
     ]
    },
    {
     "name": "stderr",
     "output_type": "stream",
     "text": [
      "2022-12-05 01:19:46.582042: W tensorflow/stream_executor/platform/default/dso_loader.cc:64] Could not load dynamic library 'cudart64_110.dll'; dlerror: cudart64_110.dll not found\n",
      "2022-12-05 01:19:46.582518: I tensorflow/stream_executor/cuda/cudart_stub.cc:29] Ignore above cudart dlerror if you do not have a GPU set up on your machine.\n",
      "2022-12-05 01:19:52.667862: W tensorflow/stream_executor/platform/default/dso_loader.cc:64] Could not load dynamic library 'nvcuda.dll'; dlerror: nvcuda.dll not found\n",
      "2022-12-05 01:19:52.668182: W tensorflow/stream_executor/cuda/cuda_driver.cc:263] failed call to cuInit: UNKNOWN ERROR (303)\n",
      "2022-12-05 01:19:52.672372: I tensorflow/stream_executor/cuda/cuda_diagnostics.cc:169] retrieving CUDA diagnostic information for host: MAO\n",
      "2022-12-05 01:19:52.673232: I tensorflow/stream_executor/cuda/cuda_diagnostics.cc:176] hostname: MAO\n",
      "2022-12-05 01:19:52.732822: I tensorflow/core/platform/cpu_feature_guard.cc:193] This TensorFlow binary is optimized with oneAPI Deep Neural Network Library (oneDNN) to use the following CPU instructions in performance-critical operations:  AVX AVX2\n",
      "To enable them in other operations, rebuild TensorFlow with the appropriate compiler flags.\n",
      "WARNING:tensorflow:From c:\\Users\\moham\\miniconda3\\lib\\site-packages\\tensorflow_probability\\python\\distributions\\distribution.py:342: calling MultivariateNormalDiag.__init__ (from tensorflow_probability.python.distributions.mvn_diag) with scale_identity_multiplier is deprecated and will be removed after 2020-01-01.\n",
      "Instructions for updating:\n",
      "`scale_identity_multiplier` is deprecated; please combine it into `scale_diag` directly instead.\n",
      "2022-12-05 01:20:08.106951: W tensorflow/core/framework/cpu_allocator_impl.cc:82] Allocation of 208496160 exceeds 10% of free system memory.\n",
      "2022-12-05 01:20:38.207537: W tensorflow/core/framework/cpu_allocator_impl.cc:82] Allocation of 208496160 exceeds 10% of free system memory.\n",
      "2022-12-05 01:21:09.499696: W tensorflow/core/framework/cpu_allocator_impl.cc:82] Allocation of 208496160 exceeds 10% of free system memory.\n",
      "2022-12-05 01:21:12.419881: W tensorflow/core/framework/cpu_allocator_impl.cc:82] Allocation of 208496160 exceeds 10% of free system memory.\n",
      "2022-12-05 01:21:33.182210: W tensorflow/core/framework/cpu_allocator_impl.cc:82] Allocation of 208496160 exceeds 10% of free system memory.\n",
      "Traceback (most recent call last):\n",
      "  File \"rnn_train.py\", line 126, in <module>\n",
      "    print(output_log)\n",
      "  File \"c:\\Users\\moham\\miniconda3\\lib\\site-packages\\keras\\utils\\traceback_utils.py\", line 70, in error_handler\n",
      "    raise e.with_traceback(filtered_tb) from None\n",
      "  File \"c:\\Users\\moham\\miniconda3\\lib\\site-packages\\keras\\saving\\saving_utils.py\", line 98, in raise_model_input_error\n",
      "    f\"Model {model} cannot be saved either because the input shape is not \"\n",
      "ValueError: Model <rnn.rnn.MDNRNN object at 0x000002E4EF069108> cannot be saved either because the input shape is not available or because the forward pass of the model is not defined.To define a forward pass, please override `Model.call()`. To specify an input shape, either call `build(input_shape)` directly, or call the model on actual data using `Model()`, `Model.fit()`, or `Model.predict()`. If you have a custom training step, please make sure to invoke the forward pass in train step through `Model.__call__`, i.e. `model(inputs)`, as opposed to `model.call()`.\n"
     ]
    }
   ],
   "source": [
    "!python rnn_train.py -c ./configs/multiwalker.config"
   ]
  }
 ],
 "metadata": {
  "kernelspec": {
   "display_name": "Python 3.9.12 ('base')",
   "language": "python",
   "name": "python3"
  },
  "language_info": {
   "codemirror_mode": {
    "name": "ipython",
    "version": 3
   },
   "file_extension": ".py",
   "mimetype": "text/x-python",
   "name": "python",
   "nbconvert_exporter": "python",
   "pygments_lexer": "ipython3",
   "version": "3.9.12"
  },
  "orig_nbformat": 4,
  "vscode": {
   "interpreter": {
    "hash": "f297f6d4114619f3bc39ad6f5387168fd99744d9c8f8e8cfe9fcc58f8f296fde"
   }
  }
 },
 "nbformat": 4,
 "nbformat_minor": 2
}

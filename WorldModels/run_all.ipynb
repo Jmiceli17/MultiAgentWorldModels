{
 "cells": [
  {
   "cell_type": "code",
   "execution_count": null,
   "metadata": {},
   "outputs": [],
   "source": [
    "# !cd ..\n",
    "# !git clone -b series_rnn https://github.com/Jmiceli17/MultiAgentWorldModels.git\n",
    "# !cd WorldModels"
   ]
  },
  {
   "cell_type": "markdown",
   "metadata": {},
   "source": [
    "To add changes, commit and push to github\n",
    "\n",
    "Make sure to remove the record folder in results/worldmodels/multiwalker_v9 before pushing (unnecessary extra files)"
   ]
  },
  {
   "cell_type": "code",
   "execution_count": 9,
   "metadata": {},
   "outputs": [
    {
     "name": "stdout",
     "output_type": "stream",
     "text": [
      "M\tWorldModels/configs/multiwalker.config"
     ]
    },
    {
     "name": "stderr",
     "output_type": "stream",
     "text": [
      "Switched to a new branch 'series'\n"
     ]
    },
    {
     "name": "stdout",
     "output_type": "stream",
     "text": [
      "\n",
      "M\tWorldModels/run_all.ipynb\n",
      "M\tWorldModels/series.py\n",
      "branch 'series' set up to track 'origin/series'.\n"
     ]
    }
   ],
   "source": [
    "# !git status\n",
    "# !git fetch\n",
    "# !git branch\n",
    "!git checkout series"
   ]
  },
  {
   "cell_type": "code",
   "execution_count": 63,
   "metadata": {},
   "outputs": [
    {
     "name": "stderr",
     "output_type": "stream",
     "text": [
      "warning: LF will be replaced by CRLF in WorldModels/run_all.ipynb.\n",
      "The file will have its original line endings in your working directory\n"
     ]
    },
    {
     "name": "stdout",
     "output_type": "stream",
     "text": [
      "[series 0d02143] Edited rnn_train.py(getting errors with tf), edited multiwalker.config and added some comments\n",
      " 3 files changed, 32 insertions(+), 2 deletions(-)\n",
      " delete mode 100644 WorldModels/__pycache__/utils.cpython-37.pyc\n",
      " delete mode 100644 WorldModels/rnn/__pycache__/rnn.cpython-37.pyc\n",
      "Branch 'series' set up to track remote branch 'series' from 'origin'.\n"
     ]
    },
    {
     "name": "stderr",
     "output_type": "stream",
     "text": [
      "To https://github.com/Jmiceli17/MultiAgentWorldModels.git\n",
      "   44e1ec1..0d02143  series -> series\n",
      "The system cannot find the path specified.\n"
     ]
    }
   ],
   "source": [
    "# !git fetch\n",
    "# !git checkout -b controller_updates # change to new branch\n",
    "# !git checkout series # change branch\n",
    "# !cd ..\n",
    "!git add .\n",
    "!git commit -m \"Finalized rnn_train.py, edited multiwalker.config and added some comments\"\n",
    "!git push --set-upstream origin series\n",
    "# !cd WorldModels"
   ]
  },
  {
   "cell_type": "markdown",
   "metadata": {},
   "source": [
    "Get latest updates"
   ]
  },
  {
   "cell_type": "code",
   "execution_count": 3,
   "metadata": {},
   "outputs": [
    {
     "name": "stdout",
     "output_type": "stream",
     "text": [
      "HEAD is now at 0c1a2fa Edited series.py with mean and std dev for each agents, edited max_frames and added some comments\n",
      "Updating 0c1a2fa..0d94a15\n",
      "Fast-forward\n",
      " WorldModels/configs/multiwalker.config |   2 +-\n",
      " WorldModels/run_all.ipynb              | 134 +++++++++++++++++++++++----------\n",
      " WorldModels/series.py                  |  41 ++++++----\n",
      " 3 files changed, 125 insertions(+), 52 deletions(-)\n"
     ]
    },
    {
     "name": "stderr",
     "output_type": "stream",
     "text": [
      "From https://github.com/Jmiceli17/MultiAgentWorldModels\n",
      " * branch            series     -> FETCH_HEAD\n",
      "The system cannot find the path specified.\n"
     ]
    }
   ],
   "source": [
    "# !git fetch\n",
    "!cd ..\n",
    "!git reset --hard\n",
    "!git pull origin series\n",
    "!cd WorldModels"
   ]
  },
  {
   "cell_type": "code",
   "execution_count": null,
   "metadata": {},
   "outputs": [],
   "source": [
    "!python test/env_test.py -c ../configs/multiwalker.config"
   ]
  },
  {
   "cell_type": "code",
   "execution_count": null,
   "metadata": {},
   "outputs": [],
   "source": [
    "!python test/multiwalker_test.py -c ../configs/multiwalker.config"
   ]
  },
  {
   "cell_type": "code",
   "execution_count": null,
   "metadata": {},
   "outputs": [],
   "source": [
    "# !python extractMultiwalker.py -c ./configs/multiwalker.config"
   ]
  },
  {
   "cell_type": "markdown",
   "metadata": {},
   "source": [
    "Put back record folder before running the codes below."
   ]
  },
  {
   "cell_type": "code",
   "execution_count": null,
   "metadata": {},
   "outputs": [],
   "source": [
    "# !python test/extractMultiwalker_test.py"
   ]
  },
  {
   "cell_type": "code",
   "execution_count": null,
   "metadata": {},
   "outputs": [],
   "source": [
    "# !python series.py -c ./configs/multiwalker.config"
   ]
  },
  {
   "cell_type": "code",
   "execution_count": 29,
   "metadata": {},
   "outputs": [
    {
     "name": "stdout",
     "output_type": "stream",
     "text": [
      "150 (100, 1000, 34) (100, 1000, 4) (100, 1000, 1) (100, 1000, 38)\n",
      "step: 20, lr: 0.001000, loss: -1.0353, train_time_taken: 353.2727\n",
      "Saved?  True\n"
     ]
    },
    {
     "name": "stderr",
     "output_type": "stream",
     "text": [
      "2022-12-06 00:57:24.368941: W tensorflow/stream_executor/platform/default/dso_loader.cc:64] Could not load dynamic library 'cudart64_110.dll'; dlerror: cudart64_110.dll not found\n",
      "2022-12-06 00:57:24.369440: I tensorflow/stream_executor/cuda/cudart_stub.cc:29] Ignore above cudart dlerror if you do not have a GPU set up on your machine.\n",
      "2022-12-06 00:57:31.773253: W tensorflow/stream_executor/platform/default/dso_loader.cc:64] Could not load dynamic library 'nvcuda.dll'; dlerror: nvcuda.dll not found\n",
      "2022-12-06 00:57:31.774228: W tensorflow/stream_executor/cuda/cuda_driver.cc:263] failed call to cuInit: UNKNOWN ERROR (303)\n",
      "2022-12-06 00:57:31.778574: I tensorflow/stream_executor/cuda/cuda_diagnostics.cc:169] retrieving CUDA diagnostic information for host: MAO\n",
      "2022-12-06 00:57:31.779843: I tensorflow/stream_executor/cuda/cuda_diagnostics.cc:176] hostname: MAO\n",
      "2022-12-06 00:57:31.835507: I tensorflow/core/platform/cpu_feature_guard.cc:193] This TensorFlow binary is optimized with oneAPI Deep Neural Network Library (oneDNN) to use the following CPU instructions in performance-critical operations:  AVX AVX2\n",
      "To enable them in other operations, rebuild TensorFlow with the appropriate compiler flags.\n",
      "WARNING:tensorflow:From c:\\Users\\moham\\miniconda3\\lib\\site-packages\\tensorflow_probability\\python\\distributions\\distribution.py:342: calling MultivariateNormalDiag.__init__ (from tensorflow_probability.python.distributions.mvn_diag) with scale_identity_multiplier is deprecated and will be removed after 2020-01-01.\n",
      "Instructions for updating:\n",
      "`scale_identity_multiplier` is deprecated; please combine it into `scale_diag` directly instead.\n"
     ]
    }
   ],
   "source": [
    "!python rnn_train.py -c ./configs/multiwalker.config"
   ]
  }
 ],
 "metadata": {
  "kernelspec": {
   "display_name": "Python 3.7.13 ('base')",
   "language": "python",
   "name": "python3"
  },
  "language_info": {
   "codemirror_mode": {
    "name": "ipython",
    "version": 3
   },
   "file_extension": ".py",
   "mimetype": "text/x-python",
   "name": "python",
   "nbconvert_exporter": "python",
   "pygments_lexer": "ipython3",
   "version": "3.7.13"
  },
  "orig_nbformat": 4,
  "vscode": {
   "interpreter": {
    "hash": "b5730c729deb0565ba38b9fb41351f77d567c905c91d1f05eeeede201d1d8f68"
   }
  }
 },
 "nbformat": 4,
 "nbformat_minor": 2
}

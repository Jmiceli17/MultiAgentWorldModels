{
 "cells": [
  {
   "cell_type": "code",
   "execution_count": null,
   "metadata": {},
   "outputs": [],
   "source": [
    "# !cd ..\n",
    "# !git clone -b series_rnn https://github.com/Jmiceli17/MultiAgentWorldModels.git\n",
    "# !cd WorldModels"
   ]
  },
  {
   "cell_type": "markdown",
   "metadata": {},
   "source": [
    "To add changes, commit and push to github\n",
    "\n",
    "Make sure to remove the record folder in results/worldmodels/multiwalker_v9 before pushing (unnecessary extra files)"
   ]
  },
  {
   "cell_type": "code",
   "execution_count": null,
   "metadata": {},
   "outputs": [],
   "source": [
    "# !git status\n",
    "# !git fetch\n",
    "# !git branch"
   ]
  },
  {
   "cell_type": "code",
   "execution_count": 3,
   "metadata": {},
   "outputs": [
    {
     "name": "stderr",
     "output_type": "stream",
     "text": [
      "error: pathspec 'controller_updates' did not match any file(s) known to git\n",
      "error: pathspec '#' did not match any file(s) known to git\n",
      "error: pathspec 'change' did not match any file(s) known to git\n",
      "error: pathspec 'branch' did not match any file(s) known to git\n",
      "warning: LF will be replaced by CRLF in WorldModels/run_all.ipynb.\n",
      "The file will have its original line endings in your working directory\n"
     ]
    },
    {
     "name": "stdout",
     "output_type": "stream",
     "text": [
      "[series_rnn ab71992] Edited series.py with mean and std dev for each agents, edited max_frames and added some comments\n",
      " 1 file changed, 8 insertions(+), 10 deletions(-)\n"
     ]
    },
    {
     "name": "stderr",
     "output_type": "stream",
     "text": [
      "error: src refspec controller_updates does not match any\n",
      "error: failed to push some refs to 'https://github.com/Jmiceli17/MultiAgentWorldModels.git'\n",
      "The system cannot find the path specified.\n"
     ]
    }
   ],
   "source": [
    "!cd ..\n",
    "!git fetch\n",
    "# !git checkout -b controller_updates # change to new branch\n",
    "!git checkout controller_updates # change branch\n",
    "!git add .\n",
    "!git commit -m \"Edited series.py with mean and std dev for each agents, edited max_frames and added some comments\"\n",
    "!git push --set-upstream origin controller_updates\n",
    "!cd WorldModels"
   ]
  },
  {
   "cell_type": "markdown",
   "metadata": {},
   "source": [
    "Get latest updates"
   ]
  },
  {
   "cell_type": "code",
   "execution_count": 2,
   "metadata": {},
   "outputs": [
    {
     "name": "stdout",
     "output_type": "stream",
     "text": [
      "HEAD is now at 21f49fe just adding comments from meeting\n",
      "Already up to date.\n"
     ]
    },
    {
     "name": "stderr",
     "output_type": "stream",
     "text": [
      "From https://github.com/Jmiceli17/MultiAgentWorldModels\n",
      " * branch            series_rnn -> FETCH_HEAD\n",
      "The system cannot find the path specified.\n"
     ]
    }
   ],
   "source": [
    "!cd ..\n",
    "!git reset --hard\n",
    "!git pull origin controller_updates\n",
    "!cd WorldModels"
   ]
  },
  {
   "cell_type": "code",
   "execution_count": null,
   "metadata": {},
   "outputs": [],
   "source": [
    "!python test/env_test.py -c ../configs/multiwalker.config"
   ]
  },
  {
   "cell_type": "code",
   "execution_count": null,
   "metadata": {},
   "outputs": [],
   "source": [
    "!python test/multiwalker_test.py -c ../configs/multiwalker.config"
   ]
  },
  {
   "cell_type": "code",
   "execution_count": null,
   "metadata": {},
   "outputs": [],
   "source": [
    "# !python extractMultiwalker.py -c ./configs/multiwalker.config"
   ]
  },
  {
   "cell_type": "markdown",
   "metadata": {},
   "source": [
    "Put back record folder before running the codes below."
   ]
  },
  {
   "cell_type": "code",
   "execution_count": null,
   "metadata": {},
   "outputs": [],
   "source": [
    "!python test/extractMultiwalker_test.py"
   ]
  },
  {
   "cell_type": "code",
   "execution_count": null,
   "metadata": {},
   "outputs": [],
   "source": [
    "!python series.py -c ./configs/multiwalker.config"
   ]
  }
 ],
 "metadata": {
  "kernelspec": {
   "display_name": "Python 3.7.13 ('base')",
   "language": "python",
   "name": "python3"
  },
  "language_info": {
   "codemirror_mode": {
    "name": "ipython",
    "version": 3
   },
   "file_extension": ".py",
   "mimetype": "text/x-python",
   "name": "python",
   "nbconvert_exporter": "python",
   "pygments_lexer": "ipython3",
   "version": "3.7.13"
  },
  "orig_nbformat": 4,
  "vscode": {
   "interpreter": {
    "hash": "b5730c729deb0565ba38b9fb41351f77d567c905c91d1f05eeeede201d1d8f68"
   }
  }
 },
 "nbformat": 4,
 "nbformat_minor": 2
}

{
 "cells": [
  {
   "cell_type": "code",
   "execution_count": null,
   "metadata": {},
   "outputs": [],
   "source": [
    "# !cd ..\n",
    "# !git clone -b series_rnn https://github.com/Jmiceli17/MultiAgentWorldModels.git\n",
    "# !cd WorldModels"
   ]
  },
  {
   "cell_type": "markdown",
   "metadata": {},
   "source": [
    "To add changes, commit and push to github\n",
    "\n",
    "Make sure to remove the record folder in results/worldmodels/multiwalker_v9 before pushing (unnecessary extra files)"
   ]
  },
  {
   "cell_type": "code",
   "execution_count": 4,
   "metadata": {},
   "outputs": [
    {
     "name": "stdout",
     "output_type": "stream",
     "text": [
      "M\tWorldModels/configs/multiwalker.config\n",
      "M\tWorldModels/env.py\n",
      "M\tWorldModels/extractMultiwalker.py\n",
      "D\tWorldModels/results/WorldModels/multiwalker_v9/tf_rnn/keras_metadata.pb\n",
      "D\tWorldModels/results/WorldModels/multiwalker_v9/tf_rnn/saved_model.pb\n",
      "D\tWorldModels/results/WorldModels/multiwalker_v9/tf_rnn/variables/variables.data-00000-of-00001\n",
      "D\tWorldModels/results/WorldModels/multiwalker_v9/tf_rnn/variables/variables.index\n",
      "M\tWorldModels/rnn_train.py\n",
      "M\tWorldModels/run_all.ipynb\n",
      "M\tWorldModels/series.py\n",
      "M\tWorldModels/test/extractMultiwalker_test.py\n",
      "M\tWorldModels/test/rnn_train_test.py\n",
      "M\tWorldModels/utils.py\n"
     ]
    },
    {
     "name": "stderr",
     "output_type": "stream",
     "text": [
      "Switched to a new branch 'single_agent'\n"
     ]
    }
   ],
   "source": [
    "# !git status\n",
    "# !git fetch\n",
    "# !git branch\n",
    "!git checkout -b single_agent \n",
    "#controller_updates_series_merge"
   ]
  },
  {
   "cell_type": "code",
   "execution_count": null,
   "metadata": {},
   "outputs": [],
   "source": [
    "# !git fetch\n",
    "# !git checkout -b controller_updates # change to new branch\n",
    "# !git checkout series # change branch\n",
    "# !cd ..\n",
    "!git add .\n",
    "!git commit -m \"Set up for single agent experimentation\"\n",
    "!git push --set-upstream origin single_agent \n",
    "#controller_updates_series_merge\n",
    "# !cd WorldModels"
   ]
  },
  {
   "cell_type": "markdown",
   "metadata": {},
   "source": [
    "Get latest updates"
   ]
  },
  {
   "cell_type": "code",
   "execution_count": null,
   "metadata": {},
   "outputs": [],
   "source": [
    "# !git fetch\n",
    "# !cd ..\n",
    "!git reset --hard\n",
    "!git pull origin single_agent \n",
    "#controller_updates_series_merge\n",
    "# !cd WorldModels"
   ]
  },
  {
   "cell_type": "code",
   "execution_count": null,
   "metadata": {},
   "outputs": [],
   "source": [
    "# !python test/env_test.py -c ../configs/multiwalker.config"
   ]
  },
  {
   "cell_type": "code",
   "execution_count": null,
   "metadata": {},
   "outputs": [],
   "source": [
    "# !python test/multiwalker_test.py -c ../configs/multiwalker.config"
   ]
  },
  {
   "cell_type": "code",
   "execution_count": null,
   "metadata": {},
   "outputs": [],
   "source": [
    "# !python extractMultiwalker.py -c ./configs/multiwalker.config"
   ]
  },
  {
   "cell_type": "markdown",
   "metadata": {},
   "source": [
    "Put back record folder before running the codes below."
   ]
  },
  {
   "cell_type": "code",
   "execution_count": null,
   "metadata": {},
   "outputs": [],
   "source": [
    "# !python test/extractMultiwalker_test.py"
   ]
  },
  {
   "cell_type": "code",
   "execution_count": null,
   "metadata": {},
   "outputs": [],
   "source": [
    "# !python series.py -c ./configs/multiwalker.config"
   ]
  },
  {
   "cell_type": "code",
   "execution_count": null,
   "metadata": {},
   "outputs": [],
   "source": [
    "# !python rnn_train.py -c ./configs/multiwalker.config"
   ]
  },
  {
   "cell_type": "code",
   "execution_count": null,
   "metadata": {},
   "outputs": [],
   "source": [
    "!python test/rnn_train_test.py -c ../configs/multiwalker.config"
   ]
  },
  {
   "cell_type": "code",
   "execution_count": null,
   "metadata": {},
   "outputs": [],
   "source": [
    "import numpy as np\n",
    "import matplotlib.pyplot as plt\n",
    "# %matplotlib inline\n",
    "losses = np.loadtxt(\"test/losses.txt\")\n",
    "plt.plot(range(1000), np.array(losses))\n",
    "plt.show()"
   ]
  }
 ],
 "metadata": {
  "kernelspec": {
   "display_name": "Python 3.7.13 ('base')",
   "language": "python",
   "name": "python3"
  },
  "language_info": {
   "codemirror_mode": {
    "name": "ipython",
    "version": 3
   },
   "file_extension": ".py",
   "mimetype": "text/x-python",
   "name": "python",
   "nbconvert_exporter": "python",
   "pygments_lexer": "ipython3",
   "version": "3.7.13"
  },
  "orig_nbformat": 4,
  "vscode": {
   "interpreter": {
    "hash": "b5730c729deb0565ba38b9fb41351f77d567c905c91d1f05eeeede201d1d8f68"
   }
  }
 },
 "nbformat": 4,
 "nbformat_minor": 2
}

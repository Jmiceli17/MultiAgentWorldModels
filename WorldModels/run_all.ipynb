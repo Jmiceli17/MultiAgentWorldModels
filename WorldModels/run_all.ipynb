{
 "cells": [
  {
   "cell_type": "code",
   "execution_count": null,
   "metadata": {},
   "outputs": [],
   "source": [
    "# !cd ..\n",
    "# !git clone -b series_rnn https://github.com/Jmiceli17/MultiAgentWorldModels.git\n",
    "# !cd WorldModels"
   ]
  },
  {
   "cell_type": "markdown",
   "metadata": {},
   "source": [
    "To add changes, commit and push to github\n",
    "\n",
    "Make sure to remove the record folder in results/worldmodels/multiwalker_v9 before pushing (unnecessary extra files)"
   ]
  },
  {
   "cell_type": "code",
   "execution_count": null,
   "metadata": {},
   "outputs": [],
   "source": [
    "# !git status\n",
    "# !git fetch\n",
    "# !git branch\n",
    "!git checkout -b single_agent \n",
    "#controller_updates_series_merge"
   ]
  },
  {
   "cell_type": "code",
   "execution_count": null,
   "metadata": {},
   "outputs": [],
   "source": [
    "# !git fetch\n",
    "# !git checkout -b controller_updates # change to new branch\n",
    "# !git checkout series # change branch\n",
    "# !cd ..\n",
    "!git add .\n",
    "!git commit -m \"Updated few files, don't wanna lose them\"\n",
    "!git push --set-upstream origin single_agent \n",
    "#controller_updates_series_merge\n",
    "# !cd WorldModels"
   ]
  },
  {
   "cell_type": "markdown",
   "metadata": {},
   "source": [
    "Get latest updates"
   ]
  },
  {
   "cell_type": "code",
   "execution_count": null,
   "metadata": {},
   "outputs": [],
   "source": [
    "# !git fetch\n",
    "# !cd ..\n",
    "!git reset --hard\n",
    "!git pull origin single_agent \n",
    "#controller_updates_series_merge\n",
    "# !cd WorldModels"
   ]
  },
  {
   "cell_type": "code",
   "execution_count": null,
   "metadata": {},
   "outputs": [],
   "source": [
    "# !python test/env_test.py -c ../configs/multiwalker.config"
   ]
  },
  {
   "cell_type": "code",
   "execution_count": null,
   "metadata": {},
   "outputs": [],
   "source": [
    "# !python test/multiwalker_test.py -c ../configs/multiwalker.config"
   ]
  },
  {
   "cell_type": "code",
   "execution_count": null,
   "metadata": {},
   "outputs": [],
   "source": [
    "# !python extractMultiwalker.py -c ./configs/multiwalker.config"
   ]
  },
  {
   "cell_type": "markdown",
   "metadata": {},
   "source": [
    "Put back record folder before running the codes below."
   ]
  },
  {
   "cell_type": "code",
   "execution_count": null,
   "metadata": {},
   "outputs": [],
   "source": [
    "# !python test/extractMultiwalker_test.py"
   ]
  },
  {
   "cell_type": "code",
   "execution_count": null,
   "metadata": {},
   "outputs": [],
   "source": [
    "# !python series.py -c ./configs/multiwalker.config"
   ]
  },
  {
   "cell_type": "code",
   "execution_count": 8,
   "metadata": {},
   "outputs": [],
   "source": [
    "!python rnn_train.py -c ./configs/multiwalker.config"
   ]
  },
  {
   "cell_type": "code",
   "execution_count": null,
   "metadata": {},
   "outputs": [],
   "source": [
    "!python test/rnn_train_test.py -c ../configs/multiwalker.config"
   ]
  },
  {
   "cell_type": "code",
   "execution_count": null,
   "metadata": {},
   "outputs": [],
   "source": [
    "import numpy as np\n",
    "import matplotlib.pyplot as plt\n",
    "# %matplotlib inline\n",
    "losses = np.loadtxt(\"test/losses.txt\")\n",
    "plt.plot(range(1000), np.array(losses))\n",
    "plt.show()"
   ]
  }
 ],
 "metadata": {
  "kernelspec": {
   "display_name": "base",
   "language": "python",
   "name": "python3"
  },
  "language_info": {
   "codemirror_mode": {
    "name": "ipython",
    "version": 3
   },
   "file_extension": ".py",
   "mimetype": "text/x-python",
   "name": "python",
   "nbconvert_exporter": "python",
   "pygments_lexer": "ipython3",
   "version": "3.9.12"
  },
  "orig_nbformat": 4,
  "vscode": {
   "interpreter": {
    "hash": "f297f6d4114619f3bc39ad6f5387168fd99744d9c8f8e8cfe9fcc58f8f296fde"
   }
  }
 },
 "nbformat": 4,
 "nbformat_minor": 2
}
